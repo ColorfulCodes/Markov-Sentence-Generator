{
 "cells": [
  {
   "cell_type": "code",
   "execution_count": 48,
   "metadata": {
    "collapsed": false,
    "scrolled": true
   },
   "outputs": [
    {
     "name": "stdout",
     "output_type": "stream",
     "text": [
      "['let', 'me', 'die', 'a', \"youngman's\", 'death', 'not', 'a', 'clean', 'and', 'in', 'between', 'the', 'sheets', 'holywater', 'death', 'not', 'a', 'famous-last-words', 'peaceful', 'out', 'of', 'breath', 'death', 'when', \"i'm\", '73', 'and', 'in', 'constant', 'good', 'tumour', 'may', 'i', 'be', 'mown', 'down', 'at', 'dawn', 'by', 'a', 'bright', 'red', 'sports', 'car', 'on', 'my', 'way', 'home', 'from', 'an', 'allnight', 'party', 'or', 'when', \"i'm\", '91', 'with', 'silver', 'hair', 'and', 'sitting', 'in', 'a', \"barber's\", 'chair', 'may', 'rival', 'gangsters', 'with', 'ham-fisted', 'tommyguns', 'burst', 'in', 'and', 'give', 'me', 'a', 'short', 'back', 'and', 'insides', 'or', 'when', \"i'm\", '104', 'and', 'banned', 'from', 'the', 'cavern', 'may', 'my', 'mistress', 'catching', 'me', 'in', 'bed', 'with', 'her', 'daughter', 'and', 'fearing', 'for', 'her', 'son', 'cut', 'me', 'up', 'into', 'little', 'pieces', 'and', 'throw', 'away', 'every', 'piece', 'but', 'one', 'let', 'me', 'die', 'a', \"youngman's\", 'death', 'not', 'a', 'free', 'from', 'sin', 'tiptoe', 'in', 'candle', 'wax', 'and', 'waning', 'death', 'not', 'a', 'curtains', 'drawn', 'by', 'angels', 'borne', \"'what\", 'a', 'nice', 'way', 'to', \"go'\", 'death', 'roger', 'mcgough']\n"
     ]
    }
   ],
   "source": [
    "poem = \"\"\"Let me die a youngman's death\n",
    "not a clean and in between\n",
    "the sheets holywater death\n",
    "not a famous-last-words\n",
    "peaceful out of breath death\n",
    "\n",
    "When I'm 73\n",
    "and in constant good tumour\n",
    "may I be mown down at dawn\n",
    "by a bright red sports car\n",
    "on my way home\n",
    "from an allnight party\n",
    "\n",
    "Or when I'm 91\n",
    "with silver hair\n",
    "and sitting in a barber's chair\n",
    "may rival gangsters\n",
    "with ham-fisted tommyguns burst in\n",
    "and give me a short back and insides\n",
    "\n",
    "Or when I'm 104\n",
    "and banned from the Cavern\n",
    "may my mistress\n",
    "catching me in bed with her daughter\n",
    "and fearing for her son\n",
    "cut me up into little pieces\n",
    "and throw away every piece but one\n",
    "\n",
    "Let me die a youngman's death\n",
    "not a free from sin tiptoe in\n",
    "candle wax and waning death\n",
    "not a curtains drawn by angels borne\n",
    "'what a nice way to go' death \n",
    "Roger McGough\"\"\"\n",
    "\n",
    "poem = poem.lower().split()\n",
    "print poem\n"
   ]
  },
  {
   "cell_type": "code",
   "execution_count": 49,
   "metadata": {
    "collapsed": false
   },
   "outputs": [
    {
     "name": "stdout",
     "output_type": "stream",
     "text": [
      "{}\n",
      "{}\n",
      "{}\n"
     ]
    },
    {
     "ename": "KeyError",
     "evalue": "'a'",
     "output_type": "error",
     "traceback": [
      "\u001b[0;31m---------------------------------------------------------------------------\u001b[0m",
      "\u001b[0;31mKeyError\u001b[0m                                  Traceback (most recent call last)",
      "\u001b[0;32m<ipython-input-49-56f023962975>\u001b[0m in \u001b[0;36m<module>\u001b[0;34m()\u001b[0m\n\u001b[1;32m      2\u001b[0m \u001b[0;32mfor\u001b[0m \u001b[0mi\u001b[0m \u001b[0;32min\u001b[0m \u001b[0mpoem\u001b[0m\u001b[0;34m:\u001b[0m\u001b[0;34m\u001b[0m\u001b[0m\n\u001b[1;32m      3\u001b[0m     \u001b[0;32mif\u001b[0m \u001b[0mi\u001b[0m\u001b[0;34m[\u001b[0m\u001b[0;36m0\u001b[0m\u001b[0;34m]\u001b[0m \u001b[0;34m==\u001b[0m \u001b[0;34m'a'\u001b[0m\u001b[0;34m:\u001b[0m\u001b[0;34m\u001b[0m\u001b[0m\n\u001b[0;32m----> 4\u001b[0;31m         \u001b[0mwords\u001b[0m\u001b[0;34m[\u001b[0m\u001b[0;34m'a'\u001b[0m\u001b[0;34m]\u001b[0m \u001b[0;34m==\u001b[0m \u001b[0mi\u001b[0m\u001b[0;34m\u001b[0m\u001b[0m\n\u001b[0m\u001b[1;32m      5\u001b[0m     \u001b[0;32mprint\u001b[0m \u001b[0mwords\u001b[0m\u001b[0;34m\u001b[0m\u001b[0m\n",
      "\u001b[0;31mKeyError\u001b[0m: 'a'"
     ]
    }
   ],
   "source": [
    "words = {}\n",
    "for i in poem:\n",
    "    if i[0] == 'a':\n",
    "        words['a'] == i\n",
    "    print words"
   ]
  },
  {
   "cell_type": "code",
   "execution_count": 50,
   "metadata": {
    "collapsed": false
   },
   "outputs": [
    {
     "name": "stdout",
     "output_type": "stream",
     "text": [
      "['let', 'me', 'die', 'a', \"youngman's\", 'death', 'not', 'a', 'clean', 'and', 'in', 'between', 'the', 'sheets', 'holywater', 'death', 'not', 'a', 'famous-last-words', 'peaceful', 'out', 'of', 'breath', 'death', 'when', \"i'm\", 'and', 'in', 'constant', 'good', 'tumour', 'may', 'i', 'be', 'mown', 'down', 'at', 'dawn', 'by', 'a', 'bright', 'red', 'sports', 'car', 'on', 'my', 'way', 'home', 'from', 'an', 'allnight', 'party', 'or', 'when', \"i'm\", 'with', 'silver', 'hair', 'and', 'sitting', 'in', 'a', \"barber's\", 'chair', 'may', 'rival', 'gangsters', 'with', 'ham-fisted', 'tommyguns', 'burst', 'in', 'and', 'give', 'me', 'a', 'short', 'back', 'and', 'insides', 'or', 'when', \"i'm\", 'and', 'banned', 'from', 'the', 'cavern', 'may', 'my', 'mistress', 'catching', 'me', 'in', 'bed', 'with', 'her', 'daughter', 'and', 'fearing', 'for', 'her', 'son', 'cut', 'me', 'up', 'into', 'little', 'pieces', 'and', 'throw', 'away', 'every', 'piece', 'but', 'one', 'let', 'me', 'die', 'a', \"youngman's\", 'death', 'not', 'a', 'free', 'from', 'sin', 'tiptoe', 'in', 'candle', 'wax', 'and', 'waning', 'death', 'not', 'a', 'curtains', 'drawn', 'by', 'angels', 'borne', \"'what\", 'a', 'nice', 'way', 'to', \"go'\", 'death', 'roger', 'mcgough']\n"
     ]
    }
   ],
   "source": [
    "twist = filter(lambda x: not(x == ',' or x == ' ' or x == '.' or x.isdigit()), poem)\n",
    "print twist\n"
   ]
  },
  {
   "cell_type": "code",
   "execution_count": 81,
   "metadata": {
    "collapsed": false
   },
   "outputs": [
    {
     "name": "stdout",
     "output_type": "stream",
     "text": [
      "{'a': ['a', 'a', 'and', 'a', 'and', 'at', 'a', 'an', 'allnight', 'and', 'a', 'and', 'a', 'and', 'and', 'and', 'and', 'away', 'a', 'a', 'and', 'a', 'angels', 'a'], 'c': ['clean', 'constant', 'car', 'chair', 'cavern', 'catching', 'cut', 'candle', 'curtains'], 'b': ['between', 'breath', 'be', 'by', 'bright', \"barber's\", 'burst', 'back', 'banned', 'bed', 'but', 'by', 'borne'], 'e': ['every'], 'd': ['die', 'death', 'death', 'death', 'down', 'dawn', 'daughter', 'die', 'death', 'death', 'drawn', 'death'], 'g': ['good', 'gangsters', 'give', \"go'\"], 'f': ['famous-last-words', 'from', 'from', 'fearing', 'for', 'free', 'from'], 'i': ['in', \"i'm\", 'in', 'i', \"i'm\", 'in', 'in', 'insides', \"i'm\", 'in', 'into', 'in'], 'h': ['holywater', 'home', 'hair', 'ham-fisted', 'her', 'her'], 'm': ['me', 'may', 'mown', 'my', 'may', 'me', 'may', 'my', 'mistress', 'me', 'me', 'me', 'mcgough'], 'l': ['let', 'little', 'let'], 'o': ['out', 'of', 'on', 'or', 'or', 'one'], 'n': ['not', 'not', 'not', 'not', 'nice'], 'p': ['peaceful', 'party', 'pieces', 'piece'], 's': ['sheets', 'sports', 'silver', 'sitting', 'short', 'son', 'sin'], 'r': ['red', 'rival', 'roger'], 'u': ['up'], 't': ['the', 'tumour', 'tommyguns', 'the', 'throw', 'tiptoe', 'to'], 'w': ['when', 'way', 'when', 'with', 'with', 'when', 'with', 'wax', 'waning', 'way'], 'y': [\"youngman's\", \"youngman's\"], \"'\": [\"'what\"]}\n"
     ]
    }
   ],
   "source": [
    "words = {}\n",
    "for word in twist:\n",
    "    letter = word[0]\n",
    "    try:\n",
    "        words[letter].append(word)\n",
    "    except:\n",
    "        words[letter] = [word]\n",
    "print words"
   ]
  },
  {
   "cell_type": "markdown",
   "metadata": {},
   "source": [
    "### words\n",
    "* it's a dict\n",
    "* the key is a letter\n",
    "* the value is a list\n",
    "\n",
    "### counter (function)\n",
    "* Counter takes a list\n",
    "\n",
    "### count\n",
    "* it's a dict\n",
    "\n",
    "# goal:\n",
    "* you want to pass a dict with the values that are lists\n",
    "* and you want to return a dict, where the values are dicts\n",
    "* The return dict values, look like count"
   ]
  },
  {
   "cell_type": "code",
   "execution_count": 107,
   "metadata": {
    "collapsed": false,
    "scrolled": true
   },
   "outputs": [
    {
     "name": "stdout",
     "output_type": "stream",
     "text": [
      "{'a': {'a': 10, 'and': 9, 'away': 1, 'an': 1, 'allnight': 1, 'at': 1, 'angels': 1}, 'c': {'curtains': 1, 'cut': 1, 'constant': 1, 'car': 1, 'catching': 1, 'cavern': 1, 'clean': 1, 'candle': 1, 'chair': 1}, 'b': {'be': 1, 'burst': 1, \"barber's\": 1, 'banned': 1, 'back': 1, 'bed': 1, 'breath': 1, 'bright': 1, 'but': 1, 'between': 1, 'by': 2, 'borne': 1}, 'e': {'every': 1}, 'd': {'death': 6, 'daughter': 1, 'die': 2, 'down': 1, 'drawn': 1, 'dawn': 1}, 'g': {'gangsters': 1, \"go'\": 1, 'good': 1, 'give': 1}, 'f': {'free': 1, 'famous-last-words': 1, 'from': 3, 'fearing': 1, 'for': 1}, 'i': {'i': 1, 'insides': 1, \"i'm\": 3, 'into': 1, 'in': 6}, 'h': {'hair': 1, 'home': 1, 'holywater': 1, 'ham-fisted': 1, 'her': 2}, 'm': {'me': 5, 'mcgough': 1, 'mown': 1, 'may': 3, 'mistress': 1, 'my': 2}, 'l': {'little': 1, 'let': 2}, 'o': {'one': 1, 'of': 1, 'on': 1, 'or': 2, 'out': 1}, 'n': {'not': 4, 'nice': 1}, 'p': {'party': 1, 'pieces': 1, 'piece': 1, 'peaceful': 1}, 's': {'short': 1, 'sitting': 1, 'son': 1, 'sheets': 1, 'sin': 1, 'sports': 1, 'silver': 1}, 'r': {'rival': 1, 'roger': 1, 'red': 1}, 'u': {'up': 1}, 't': {'tumour': 1, 'tommyguns': 1, 'tiptoe': 1, 'to': 1, 'the': 2, 'throw': 1}, 'w': {'waning': 1, 'with': 3, 'when': 3, 'way': 2, 'wax': 1}, 'y': {\"youngman's\": 2}, \"'\": {\"'what\": 1}}\n"
     ]
    }
   ],
   "source": [
    "#{a: {apples: 2, and: 1, animals:1, are:2},f:{fruits:1},g:{good:1},n:{not:1}}\n",
    "def counter(words_list):\n",
    "    count = {}\n",
    "    for w in words_list:\n",
    "        if w in count:\n",
    "            count[w] += 1\n",
    "        else:\n",
    "            count[w] = 1\n",
    "\n",
    "    return count\n",
    "\n",
    "counts = {}\n",
    "for key, value in words.iteritems():\n",
    "    counting = counter(value)\n",
    "    counts[key] = counting\n",
    "    \n",
    "    \n",
    "print counts\n",
    "\n",
    "\n",
    "\n",
    "\n",
    "\n",
    "        "
   ]
  },
  {
   "cell_type": "code",
   "execution_count": null,
   "metadata": {
    "collapsed": true
   },
   "outputs": [],
   "source": [
    "# using dictionary of dictionaries counting probability of words moving to others. For example the probability that\n",
    "# a comes before cat more than dog.\n",
    "#increment how often one word comes after other\n",
    "#every word has own dictionary"
   ]
  },
  {
   "cell_type": "code",
   "execution_count": 5,
   "metadata": {
    "collapsed": false
   },
   "outputs": [
    {
     "name": "stdout",
     "output_type": "stream",
     "text": [
      "times i\n",
      "love j\n",
      "love i\n",
      "peace j\n",
      "peace i\n",
      "apple j\n"
     ]
    }
   ],
   "source": [
    "text_array = [\"times\", \"love\", \"peace\", \"apple\"]\n",
    "master_dict = {}\n",
    "for i in range(len(text_array)-1):\n",
    "    j = i + 1\n",
    "    print text_array[i] + \" i\"\n",
    "    print text_array[j] + \" j\""
   ]
  },
  {
   "cell_type": "code",
   "execution_count": 6,
   "metadata": {
    "collapsed": false
   },
   "outputs": [
    {
     "name": "stdout",
     "output_type": "stream",
     "text": [
      "times love 0 {'times': {0: 1, 'love': 1}}\n",
      "love peace 1 {'love': {0: 1, 'peace': 1}, 'times': {0: 1, 'love': 1}}\n",
      "peace apple 2 {'peace': {0: 1, 'apple': 1}, 'love': {0: 1, 'peace': 1}, 'times': {0: 1, 'love': 1}}\n"
     ]
    }
   ],
   "source": [
    "text_array = [\"times\", \"love\", \"peace\", \"apple\"]\n",
    "master_dict = {}\n",
    "_total = 0\n",
    "for i in range(len(text_array)-1):\n",
    "    j = i + 1\n",
    "    t_w = text_array[i]\n",
    "    j_w = text_array[j]\n",
    "     # is this word in the master dict?\n",
    "    # If not, set it to a 1-element dict that holds the running total\n",
    "    if not t_w in master_dict:\n",
    "        master_dict[t_w] = {_total:0}\n",
    "        #add t_w to master_dict as {_total:0}\n",
    "        #Now pull the word dictionary out of the master\n",
    "        w_d = master_dict[t_w]\n",
    "         # Is this word in the word dictionary?  If not,\n",
    "    # then add it with a count of zero\n",
    "    if not j_w in w_d: \n",
    "        #then add j_w to w_d and set it to 0\n",
    "        w_d[j_w] = 0\n",
    "        # Now increment the count of times we've seen this word\n",
    "    # when it follows t_w\n",
    "        w_d[j_w] += 1\n",
    "        # And increment the total\n",
    "        w_d[_total] += 1\n",
    "        # print out some stuff so we can see how\n",
    "    # master_dict changes for each new\n",
    "    # i,j pair\n",
    "    print t_w,j_w,i,master_dict"
   ]
  },
  {
   "cell_type": "code",
   "execution_count": null,
   "metadata": {
    "collapsed": false
   },
   "outputs": [],
   "source": []
  },
  {
   "cell_type": "code",
   "execution_count": null,
   "metadata": {
    "collapsed": true
   },
   "outputs": [],
   "source": []
  }
 ],
 "metadata": {
  "kernelspec": {
   "display_name": "Python 2",
   "language": "python",
   "name": "python2"
  },
  "language_info": {
   "codemirror_mode": {
    "name": "ipython",
    "version": 2
   },
   "file_extension": ".py",
   "mimetype": "text/x-python",
   "name": "python",
   "nbconvert_exporter": "python",
   "pygments_lexer": "ipython2",
   "version": "2.7.6"
  }
 },
 "nbformat": 4,
 "nbformat_minor": 1
}
